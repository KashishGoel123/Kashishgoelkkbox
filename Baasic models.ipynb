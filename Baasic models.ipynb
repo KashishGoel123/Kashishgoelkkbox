{
 "cells": [
  {
   "cell_type": "markdown",
   "metadata": {},
   "source": [
    "# DATA PREPROCESSING"
   ]
  },
  {
   "cell_type": "code",
   "execution_count": 1,
   "metadata": {},
   "outputs": [
    {
     "name": "stdout",
     "output_type": "stream",
     "text": [
      "C:\\Users\\hp\\desktop\n"
     ]
    }
   ],
   "source": [
    "cd desktop"
   ]
  },
  {
   "cell_type": "code",
   "execution_count": 2,
   "metadata": {},
   "outputs": [
    {
     "name": "stdout",
     "output_type": "stream",
     "text": [
      "C:\\Users\\hp\\desktop\\New folder (3)\n"
     ]
    }
   ],
   "source": [
    "cd New folder (3)"
   ]
  },
  {
   "cell_type": "code",
   "execution_count": 3,
   "metadata": {},
   "outputs": [],
   "source": [
    "#Importing Libraries\n",
    "import pandas as pd\n",
    "import numpy as np\n",
    "import os\n",
    "import seaborn as sns\n",
    "import warnings\n",
    "warnings.filterwarnings(\"ignore\")\n",
    "from sklearn.calibration import CalibratedClassifierCV\n",
    "sns.set()\n",
    "from matplotlib.pyplot import figure\n",
    "from sklearn.model_selection import train_test_split\n"
   ]
  },
  {
   "cell_type": "code",
   "execution_count": 4,
   "metadata": {},
   "outputs": [],
   "source": [
    "# train data\n",
    "train_data = pd.read_csv('train_v2.csv')\n",
    "# members data\n",
    "members_data = pd.read_csv('members_v3.csv')\n",
    "# transactions data\n",
    "transactions_data = pd.read_csv('transactions_v2.csv')\n",
    "# user logs data\n",
    "logs_data = pd.read_csv('user_logs_v2.csv')\n"
   ]
  },
  {
   "cell_type": "code",
   "execution_count": 5,
   "metadata": {},
   "outputs": [
    {
     "data": {
      "text/html": [
       "<div>\n",
       "<style scoped>\n",
       "    .dataframe tbody tr th:only-of-type {\n",
       "        vertical-align: middle;\n",
       "    }\n",
       "\n",
       "    .dataframe tbody tr th {\n",
       "        vertical-align: top;\n",
       "    }\n",
       "\n",
       "    .dataframe thead th {\n",
       "        text-align: right;\n",
       "    }\n",
       "</style>\n",
       "<table border=\"1\" class=\"dataframe\">\n",
       "  <thead>\n",
       "    <tr style=\"text-align: right;\">\n",
       "      <th></th>\n",
       "      <th>msno</th>\n",
       "      <th>is_churn</th>\n",
       "      <th>city</th>\n",
       "      <th>bd</th>\n",
       "      <th>gender</th>\n",
       "      <th>registered_via</th>\n",
       "      <th>registration_init_time</th>\n",
       "      <th>payment_method_id</th>\n",
       "      <th>payment_plan_days</th>\n",
       "      <th>plan_list_price</th>\n",
       "      <th>...</th>\n",
       "      <th>membership_expire_date</th>\n",
       "      <th>is_cancel</th>\n",
       "      <th>date</th>\n",
       "      <th>num_25</th>\n",
       "      <th>num_50</th>\n",
       "      <th>num_75</th>\n",
       "      <th>num_985</th>\n",
       "      <th>num_100</th>\n",
       "      <th>num_unq</th>\n",
       "      <th>total_secs</th>\n",
       "    </tr>\n",
       "  </thead>\n",
       "  <tbody>\n",
       "    <tr>\n",
       "      <th>0</th>\n",
       "      <td>ugx0CjOMzazClkFzU2xasmDZaoIqOUAZPsH1q0teWCg=</td>\n",
       "      <td>1</td>\n",
       "      <td>5.0</td>\n",
       "      <td>28.0</td>\n",
       "      <td>male</td>\n",
       "      <td>3.0</td>\n",
       "      <td>20131223.0</td>\n",
       "      <td>NaN</td>\n",
       "      <td>NaN</td>\n",
       "      <td>NaN</td>\n",
       "      <td>...</td>\n",
       "      <td>NaN</td>\n",
       "      <td>NaN</td>\n",
       "      <td>20170305.0</td>\n",
       "      <td>7.0</td>\n",
       "      <td>0.0</td>\n",
       "      <td>3.0</td>\n",
       "      <td>5.0</td>\n",
       "      <td>71.0</td>\n",
       "      <td>68.0</td>\n",
       "      <td>17599.893</td>\n",
       "    </tr>\n",
       "    <tr>\n",
       "      <th>1</th>\n",
       "      <td>ugx0CjOMzazClkFzU2xasmDZaoIqOUAZPsH1q0teWCg=</td>\n",
       "      <td>1</td>\n",
       "      <td>5.0</td>\n",
       "      <td>28.0</td>\n",
       "      <td>male</td>\n",
       "      <td>3.0</td>\n",
       "      <td>20131223.0</td>\n",
       "      <td>NaN</td>\n",
       "      <td>NaN</td>\n",
       "      <td>NaN</td>\n",
       "      <td>...</td>\n",
       "      <td>NaN</td>\n",
       "      <td>NaN</td>\n",
       "      <td>20170301.0</td>\n",
       "      <td>138.0</td>\n",
       "      <td>19.0</td>\n",
       "      <td>7.0</td>\n",
       "      <td>1.0</td>\n",
       "      <td>21.0</td>\n",
       "      <td>158.0</td>\n",
       "      <td>8830.433</td>\n",
       "    </tr>\n",
       "    <tr>\n",
       "      <th>2</th>\n",
       "      <td>ugx0CjOMzazClkFzU2xasmDZaoIqOUAZPsH1q0teWCg=</td>\n",
       "      <td>1</td>\n",
       "      <td>5.0</td>\n",
       "      <td>28.0</td>\n",
       "      <td>male</td>\n",
       "      <td>3.0</td>\n",
       "      <td>20131223.0</td>\n",
       "      <td>NaN</td>\n",
       "      <td>NaN</td>\n",
       "      <td>NaN</td>\n",
       "      <td>...</td>\n",
       "      <td>NaN</td>\n",
       "      <td>NaN</td>\n",
       "      <td>20170319.0</td>\n",
       "      <td>0.0</td>\n",
       "      <td>0.0</td>\n",
       "      <td>0.0</td>\n",
       "      <td>0.0</td>\n",
       "      <td>34.0</td>\n",
       "      <td>17.0</td>\n",
       "      <td>7883.313</td>\n",
       "    </tr>\n",
       "    <tr>\n",
       "      <th>3</th>\n",
       "      <td>ugx0CjOMzazClkFzU2xasmDZaoIqOUAZPsH1q0teWCg=</td>\n",
       "      <td>1</td>\n",
       "      <td>5.0</td>\n",
       "      <td>28.0</td>\n",
       "      <td>male</td>\n",
       "      <td>3.0</td>\n",
       "      <td>20131223.0</td>\n",
       "      <td>NaN</td>\n",
       "      <td>NaN</td>\n",
       "      <td>NaN</td>\n",
       "      <td>...</td>\n",
       "      <td>NaN</td>\n",
       "      <td>NaN</td>\n",
       "      <td>20170316.0</td>\n",
       "      <td>15.0</td>\n",
       "      <td>0.0</td>\n",
       "      <td>0.0</td>\n",
       "      <td>1.0</td>\n",
       "      <td>38.0</td>\n",
       "      <td>17.0</td>\n",
       "      <td>9029.227</td>\n",
       "    </tr>\n",
       "    <tr>\n",
       "      <th>4</th>\n",
       "      <td>ugx0CjOMzazClkFzU2xasmDZaoIqOUAZPsH1q0teWCg=</td>\n",
       "      <td>1</td>\n",
       "      <td>5.0</td>\n",
       "      <td>28.0</td>\n",
       "      <td>male</td>\n",
       "      <td>3.0</td>\n",
       "      <td>20131223.0</td>\n",
       "      <td>NaN</td>\n",
       "      <td>NaN</td>\n",
       "      <td>NaN</td>\n",
       "      <td>...</td>\n",
       "      <td>NaN</td>\n",
       "      <td>NaN</td>\n",
       "      <td>20170310.0</td>\n",
       "      <td>0.0</td>\n",
       "      <td>0.0</td>\n",
       "      <td>0.0</td>\n",
       "      <td>0.0</td>\n",
       "      <td>8.0</td>\n",
       "      <td>8.0</td>\n",
       "      <td>1870.110</td>\n",
       "    </tr>\n",
       "  </tbody>\n",
       "</table>\n",
       "<p>5 rows × 23 columns</p>\n",
       "</div>"
      ],
      "text/plain": [
       "                                           msno  is_churn  city    bd gender  \\\n",
       "0  ugx0CjOMzazClkFzU2xasmDZaoIqOUAZPsH1q0teWCg=         1   5.0  28.0   male   \n",
       "1  ugx0CjOMzazClkFzU2xasmDZaoIqOUAZPsH1q0teWCg=         1   5.0  28.0   male   \n",
       "2  ugx0CjOMzazClkFzU2xasmDZaoIqOUAZPsH1q0teWCg=         1   5.0  28.0   male   \n",
       "3  ugx0CjOMzazClkFzU2xasmDZaoIqOUAZPsH1q0teWCg=         1   5.0  28.0   male   \n",
       "4  ugx0CjOMzazClkFzU2xasmDZaoIqOUAZPsH1q0teWCg=         1   5.0  28.0   male   \n",
       "\n",
       "   registered_via  registration_init_time  payment_method_id  \\\n",
       "0             3.0              20131223.0                NaN   \n",
       "1             3.0              20131223.0                NaN   \n",
       "2             3.0              20131223.0                NaN   \n",
       "3             3.0              20131223.0                NaN   \n",
       "4             3.0              20131223.0                NaN   \n",
       "\n",
       "   payment_plan_days  plan_list_price  ...  membership_expire_date  is_cancel  \\\n",
       "0                NaN              NaN  ...                     NaN        NaN   \n",
       "1                NaN              NaN  ...                     NaN        NaN   \n",
       "2                NaN              NaN  ...                     NaN        NaN   \n",
       "3                NaN              NaN  ...                     NaN        NaN   \n",
       "4                NaN              NaN  ...                     NaN        NaN   \n",
       "\n",
       "         date  num_25  num_50  num_75  num_985  num_100  num_unq  total_secs  \n",
       "0  20170305.0     7.0     0.0     3.0      5.0     71.0     68.0   17599.893  \n",
       "1  20170301.0   138.0    19.0     7.0      1.0     21.0    158.0    8830.433  \n",
       "2  20170319.0     0.0     0.0     0.0      0.0     34.0     17.0    7883.313  \n",
       "3  20170316.0    15.0     0.0     0.0      1.0     38.0     17.0    9029.227  \n",
       "4  20170310.0     0.0     0.0     0.0      0.0      8.0      8.0    1870.110  \n",
       "\n",
       "[5 rows x 23 columns]"
      ]
     },
     "execution_count": 5,
     "metadata": {},
     "output_type": "execute_result"
    }
   ],
   "source": [
    "# merging members data with train data\n",
    "train_members = pd.merge(train_data, members_data, on='msno', how='left')\n",
    "\n",
    "# merging transactions data with train members data\n",
    "train_mem_trans = pd.merge(train_members, transactions_data, on='msno', how='left')\n",
    "\n",
    "# merging user logs data with train members transaction data\n",
    "train_dataset = pd.merge(train_mem_trans, logs_data, on='msno', how='left')\n",
    "\n",
    "# getting head of train dataset\n",
    "#pd.set_option('display.max_columns', 100)\n",
    "train_dataset.head()"
   ]
  },
  {
   "cell_type": "code",
   "execution_count": 6,
   "metadata": {},
   "outputs": [
    {
     "data": {
      "text/plain": [
       "msno                            1\n",
       "is_churn                        0\n",
       "city                       117167\n",
       "bd                         117167\n",
       "gender                    7860346\n",
       "registered_via             117167\n",
       "registration_init_time     117167\n",
       "payment_method_id          340642\n",
       "payment_plan_days          340642\n",
       "plan_list_price            340642\n",
       "actual_amount_paid         340642\n",
       "is_auto_renew              340642\n",
       "transaction_date           340642\n",
       "membership_expire_date     340642\n",
       "is_cancel                  340642\n",
       "date                       249615\n",
       "num_25                     249615\n",
       "num_50                     249615\n",
       "num_75                     249615\n",
       "num_985                    249615\n",
       "num_100                    249615\n",
       "num_unq                    249615\n",
       "total_secs                 249615\n",
       "dtype: int64"
      ]
     },
     "execution_count": 6,
     "metadata": {},
     "output_type": "execute_result"
    }
   ],
   "source": [
    "train_dataset.isnull().sum()"
   ]
  },
  {
   "cell_type": "code",
   "execution_count": 7,
   "metadata": {},
   "outputs": [
    {
     "name": "stdout",
     "output_type": "stream",
     "text": [
      "20131114.0\n"
     ]
    }
   ],
   "source": [
    "# https://stackoverflow.com/questions/43889611/median-of-panda-datetime64-column\n",
    "dates = list(train_dataset.sort_values('registration_init_time')['registration_init_time'])\n",
    "print(dates[len(dates)//2])"
   ]
  },
  {
   "cell_type": "code",
   "execution_count": 8,
   "metadata": {},
   "outputs": [],
   "source": [
    "# impute median date for registration_init_time .\n",
    "train_dataset['registration_init_time'] = train_dataset['registration_init_time'].fillna(20131114.0)"
   ]
  },
  {
   "cell_type": "code",
   "execution_count": 9,
   "metadata": {},
   "outputs": [
    {
     "data": {
      "text/plain": [
       "msno                            1\n",
       "is_churn                        0\n",
       "city                       117167\n",
       "bd                         117167\n",
       "gender                    7860346\n",
       "registered_via             117167\n",
       "registration_init_time          0\n",
       "payment_method_id          340642\n",
       "payment_plan_days          340642\n",
       "plan_list_price            340642\n",
       "actual_amount_paid         340642\n",
       "is_auto_renew              340642\n",
       "transaction_date           340642\n",
       "membership_expire_date     340642\n",
       "is_cancel                  340642\n",
       "date                       249615\n",
       "num_25                     249615\n",
       "num_50                     249615\n",
       "num_75                     249615\n",
       "num_985                    249615\n",
       "num_100                    249615\n",
       "num_unq                    249615\n",
       "total_secs                 249615\n",
       "dtype: int64"
      ]
     },
     "execution_count": 9,
     "metadata": {},
     "output_type": "execute_result"
    }
   ],
   "source": [
    "train_dataset.isnull().sum()"
   ]
  },
  {
   "cell_type": "code",
   "execution_count": 10,
   "metadata": {},
   "outputs": [],
   "source": [
    "def preprocess(data):\n",
    "    # imputing 0 in place of nan values in the city column\n",
    "    data['city'] = data['city'].fillna(0)\n",
    "    \n",
    "    # removing outliers\n",
    "    data['bd'] = data['bd'].apply(lambda x: x if (x < 69.0) and (x > 0.0) else np.nan)\n",
    "    # imputing 28 as age instead of nan\n",
    "    data['bd'] = data['bd'].fillna(28.0)\n",
    "    \n",
    "    # replacing male with 1 in gender\n",
    "    data['gender'] = data['gender'].replace(to_replace='male', value=1)\n",
    "    # replacing male with 2 in gender\n",
    "    data['gender'] = data['gender'].replace(to_replace='female', value=2)\n",
    "    # replacing nan with 0 in gender\n",
    "    data['gender'] = data['gender'].fillna(0)\n",
    "    \n",
    "    # replace 0 instead of nan in registered_via\n",
    "    data['registered_via'] = data['registered_via'].fillna(0)\n",
    "    \n",
    "    # filling median date in place of nan in the df\n",
    "    data['registration_init_time'] = data['registration_init_time'].fillna(20151010.0)\n",
    "    # converting float date to datetime\n",
    "    # data['registration_init_time'] = pd.to_datetime(data['registration_init_time'], format='%Y%m%d')\n",
    "    \n",
    "    # replace 0 instead of nan in registered_via\n",
    "    data['registered_via'] = data['registered_via'].fillna(0)\n",
    "    \n",
    "    # removing outliers\n",
    "    data['payment_plan_days'] = data['payment_plan_days'].apply(lambda x: x if (x <= 30.0) else np.nan)\n",
    "    # imputing 30 in place of nan in payment_plan_days\n",
    "    data['payment_plan_days'] = data['payment_plan_days'].fillna(30.0)\n",
    "    \n",
    "    # removing outliers\n",
    "    data['plan_list_price'] = data['plan_list_price'].apply(lambda x: x if (x <= 180.0) else np.nan)\n",
    "    # imputing 149 in place of nan in plan_list_price\n",
    "    data['plan_list_price'] = data['plan_list_price'].fillna(149.0)\n",
    "    \n",
    "    # imputing 0 in place of nan value in payment_method_id\n",
    "    data['payment_method_id'] = data['payment_method_id'].fillna(0)\n",
    "    \n",
    "    # removing outliers\n",
    "    data['actual_amount_paid'] = data['actual_amount_paid'].apply(lambda x: x if (x <= 180.0) else np.nan)\n",
    "    # imputing 149 in place of nan in actual_amount_paid\n",
    "    data['actual_amount_paid'] = data['actual_amount_paid'].fillna(149.0)\n",
    "    \n",
    "    # imputing 2 in place of nan values in is_auto_renew\n",
    "    data['is_auto_renew'] = data['is_auto_renew'].fillna(2)\n",
    "    \n",
    "    # filling median date in place of nan in the df\n",
    "    data['transaction_date'] = data['transaction_date'].fillna(20170311.0)\n",
    "    # converting float date to datetime\n",
    "    # data['transaction_date'] = pd.to_datetime(data['transaction_date'], format='%Y%m%d')\n",
    "    \n",
    "    # filling median date in place of nan in the df\n",
    "    data['membership_expire_date'] = data['membership_expire_date'].fillna(20170421.0)\n",
    "    # converting float date to datetime\n",
    "    # data['membership_expire_date'] = pd.to_datetime(data['membership_expire_date'], format='%Y%m%d')\n",
    "    \n",
    "    # imputing 2 in place of nan values in is_cancel\n",
    "    data['is_cancel'] = data['is_cancel'].fillna(2)\n",
    "    \n",
    "    # filling median date in place of nan in the df\n",
    "    data['date'] = data['date'].fillna(20170316.0)\n",
    "    # converting float date to datetime\n",
    "    # data['date'] = pd.to_datetime(data['date'], format='%Y%m%d')\n",
    "    \n",
    "    # removing outliers\n",
    "    data['num_25'] = data['num_25'].apply(lambda x: x if (x <= 15.0) else np.nan)\n",
    "    # now I can impute 2 instead of nan in num_25\n",
    "    data['num_25'] = data['num_25'].fillna(2.0)\n",
    "    \n",
    "    # removing outliers\n",
    "    data['num_50'] = data['num_50'].apply(lambda x: x if (x <= 4.0) else np.nan)\n",
    "    # now I can impute 0 instead of nan in num_50\n",
    "    data['num_50'] = data['num_50'].fillna(1.0)\n",
    "\n",
    "    # removing outliers\n",
    "    data['num_75'] = data['num_75'].apply(lambda x: x if (x <= 3.0) else np.nan)\n",
    "    # now I can impute 0 instead of nan in num_75\n",
    "    data['num_75'] = data['num_75'].fillna(0)\n",
    "\n",
    "    # removing outliers\n",
    "    data['num_985'] = data['num_985'].apply(lambda x: x if (x <= 3.0) else np.nan)\n",
    "    # now I can impute 0 instead of nan in num_985\n",
    "    data['num_985'] = data['num_985'].fillna(0)\n",
    "\n",
    "    # removing outliers\n",
    "    data['num_100'] = data['num_100'].apply(lambda x: x if (x <= 74.0) else np.nan)\n",
    "    # now I can impute 14 instead of nan in num_100\n",
    "    data['num_100'] = data['num_100'].fillna(17.0)\n",
    "    \n",
    "    # removing outliers\n",
    "    data['num_unq'] = data['num_unq'].apply(lambda x: x if (x <= 68.0) else np.nan)\n",
    "    # now I can impute 16 instead of nan in num_unq\n",
    "    data['num_unq'] = data['num_unq'].fillna(18.0)\n",
    "\n",
    "    # removing outliers\n",
    "    data['total_secs'] = data['total_secs'].apply(lambda x: x if (x <= 19167.549700000025) else np.nan)\n",
    "    # now I can impute 3880.765 instead of nan in total_secs\n",
    "    data['total_secs'] = data['total_secs'].fillna(4588.99)"
   ]
  },
  {
   "cell_type": "code",
   "execution_count": 11,
   "metadata": {},
   "outputs": [],
   "source": [
    "preprocess(train_dataset)"
   ]
  },
  {
   "cell_type": "markdown",
   "metadata": {},
   "source": [
    "#  Preaparing Dataset"
   ]
  },
  {
   "cell_type": "code",
   "execution_count": 12,
   "metadata": {},
   "outputs": [
    {
     "data": {
      "text/html": [
       "<div>\n",
       "<style scoped>\n",
       "    .dataframe tbody tr th:only-of-type {\n",
       "        vertical-align: middle;\n",
       "    }\n",
       "\n",
       "    .dataframe tbody tr th {\n",
       "        vertical-align: top;\n",
       "    }\n",
       "\n",
       "    .dataframe thead th {\n",
       "        text-align: right;\n",
       "    }\n",
       "</style>\n",
       "<table border=\"1\" class=\"dataframe\">\n",
       "  <thead>\n",
       "    <tr style=\"text-align: right;\">\n",
       "      <th></th>\n",
       "      <th>msno</th>\n",
       "      <th>is_churn</th>\n",
       "      <th>city</th>\n",
       "      <th>bd</th>\n",
       "      <th>gender</th>\n",
       "      <th>registered_via</th>\n",
       "      <th>registration_init_time</th>\n",
       "      <th>payment_method_id</th>\n",
       "      <th>payment_plan_days</th>\n",
       "      <th>plan_list_price</th>\n",
       "      <th>...</th>\n",
       "      <th>membership_expire_date</th>\n",
       "      <th>is_cancel</th>\n",
       "      <th>date</th>\n",
       "      <th>num_25</th>\n",
       "      <th>num_50</th>\n",
       "      <th>num_75</th>\n",
       "      <th>num_985</th>\n",
       "      <th>num_100</th>\n",
       "      <th>num_unq</th>\n",
       "      <th>total_secs</th>\n",
       "    </tr>\n",
       "  </thead>\n",
       "  <tbody>\n",
       "    <tr>\n",
       "      <th>0</th>\n",
       "      <td>ugx0CjOMzazClkFzU2xasmDZaoIqOUAZPsH1q0teWCg=</td>\n",
       "      <td>1</td>\n",
       "      <td>5.0</td>\n",
       "      <td>28.0</td>\n",
       "      <td>1.0</td>\n",
       "      <td>3.0</td>\n",
       "      <td>20131223.0</td>\n",
       "      <td>0.0</td>\n",
       "      <td>30.0</td>\n",
       "      <td>149.0</td>\n",
       "      <td>...</td>\n",
       "      <td>20170421.0</td>\n",
       "      <td>2.0</td>\n",
       "      <td>20170305.0</td>\n",
       "      <td>7.0</td>\n",
       "      <td>0.0</td>\n",
       "      <td>3.0</td>\n",
       "      <td>0.0</td>\n",
       "      <td>71.0</td>\n",
       "      <td>68.0</td>\n",
       "      <td>17599.893</td>\n",
       "    </tr>\n",
       "    <tr>\n",
       "      <th>1</th>\n",
       "      <td>ugx0CjOMzazClkFzU2xasmDZaoIqOUAZPsH1q0teWCg=</td>\n",
       "      <td>1</td>\n",
       "      <td>5.0</td>\n",
       "      <td>28.0</td>\n",
       "      <td>1.0</td>\n",
       "      <td>3.0</td>\n",
       "      <td>20131223.0</td>\n",
       "      <td>0.0</td>\n",
       "      <td>30.0</td>\n",
       "      <td>149.0</td>\n",
       "      <td>...</td>\n",
       "      <td>20170421.0</td>\n",
       "      <td>2.0</td>\n",
       "      <td>20170301.0</td>\n",
       "      <td>2.0</td>\n",
       "      <td>1.0</td>\n",
       "      <td>0.0</td>\n",
       "      <td>1.0</td>\n",
       "      <td>21.0</td>\n",
       "      <td>18.0</td>\n",
       "      <td>8830.433</td>\n",
       "    </tr>\n",
       "    <tr>\n",
       "      <th>2</th>\n",
       "      <td>ugx0CjOMzazClkFzU2xasmDZaoIqOUAZPsH1q0teWCg=</td>\n",
       "      <td>1</td>\n",
       "      <td>5.0</td>\n",
       "      <td>28.0</td>\n",
       "      <td>1.0</td>\n",
       "      <td>3.0</td>\n",
       "      <td>20131223.0</td>\n",
       "      <td>0.0</td>\n",
       "      <td>30.0</td>\n",
       "      <td>149.0</td>\n",
       "      <td>...</td>\n",
       "      <td>20170421.0</td>\n",
       "      <td>2.0</td>\n",
       "      <td>20170319.0</td>\n",
       "      <td>0.0</td>\n",
       "      <td>0.0</td>\n",
       "      <td>0.0</td>\n",
       "      <td>0.0</td>\n",
       "      <td>34.0</td>\n",
       "      <td>17.0</td>\n",
       "      <td>7883.313</td>\n",
       "    </tr>\n",
       "    <tr>\n",
       "      <th>3</th>\n",
       "      <td>ugx0CjOMzazClkFzU2xasmDZaoIqOUAZPsH1q0teWCg=</td>\n",
       "      <td>1</td>\n",
       "      <td>5.0</td>\n",
       "      <td>28.0</td>\n",
       "      <td>1.0</td>\n",
       "      <td>3.0</td>\n",
       "      <td>20131223.0</td>\n",
       "      <td>0.0</td>\n",
       "      <td>30.0</td>\n",
       "      <td>149.0</td>\n",
       "      <td>...</td>\n",
       "      <td>20170421.0</td>\n",
       "      <td>2.0</td>\n",
       "      <td>20170316.0</td>\n",
       "      <td>15.0</td>\n",
       "      <td>0.0</td>\n",
       "      <td>0.0</td>\n",
       "      <td>1.0</td>\n",
       "      <td>38.0</td>\n",
       "      <td>17.0</td>\n",
       "      <td>9029.227</td>\n",
       "    </tr>\n",
       "    <tr>\n",
       "      <th>4</th>\n",
       "      <td>ugx0CjOMzazClkFzU2xasmDZaoIqOUAZPsH1q0teWCg=</td>\n",
       "      <td>1</td>\n",
       "      <td>5.0</td>\n",
       "      <td>28.0</td>\n",
       "      <td>1.0</td>\n",
       "      <td>3.0</td>\n",
       "      <td>20131223.0</td>\n",
       "      <td>0.0</td>\n",
       "      <td>30.0</td>\n",
       "      <td>149.0</td>\n",
       "      <td>...</td>\n",
       "      <td>20170421.0</td>\n",
       "      <td>2.0</td>\n",
       "      <td>20170310.0</td>\n",
       "      <td>0.0</td>\n",
       "      <td>0.0</td>\n",
       "      <td>0.0</td>\n",
       "      <td>0.0</td>\n",
       "      <td>8.0</td>\n",
       "      <td>8.0</td>\n",
       "      <td>1870.110</td>\n",
       "    </tr>\n",
       "  </tbody>\n",
       "</table>\n",
       "<p>5 rows × 23 columns</p>\n",
       "</div>"
      ],
      "text/plain": [
       "                                           msno  is_churn  city    bd  gender  \\\n",
       "0  ugx0CjOMzazClkFzU2xasmDZaoIqOUAZPsH1q0teWCg=         1   5.0  28.0     1.0   \n",
       "1  ugx0CjOMzazClkFzU2xasmDZaoIqOUAZPsH1q0teWCg=         1   5.0  28.0     1.0   \n",
       "2  ugx0CjOMzazClkFzU2xasmDZaoIqOUAZPsH1q0teWCg=         1   5.0  28.0     1.0   \n",
       "3  ugx0CjOMzazClkFzU2xasmDZaoIqOUAZPsH1q0teWCg=         1   5.0  28.0     1.0   \n",
       "4  ugx0CjOMzazClkFzU2xasmDZaoIqOUAZPsH1q0teWCg=         1   5.0  28.0     1.0   \n",
       "\n",
       "   registered_via  registration_init_time  payment_method_id  \\\n",
       "0             3.0              20131223.0                0.0   \n",
       "1             3.0              20131223.0                0.0   \n",
       "2             3.0              20131223.0                0.0   \n",
       "3             3.0              20131223.0                0.0   \n",
       "4             3.0              20131223.0                0.0   \n",
       "\n",
       "   payment_plan_days  plan_list_price  ...  membership_expire_date  is_cancel  \\\n",
       "0               30.0            149.0  ...              20170421.0        2.0   \n",
       "1               30.0            149.0  ...              20170421.0        2.0   \n",
       "2               30.0            149.0  ...              20170421.0        2.0   \n",
       "3               30.0            149.0  ...              20170421.0        2.0   \n",
       "4               30.0            149.0  ...              20170421.0        2.0   \n",
       "\n",
       "         date  num_25  num_50  num_75  num_985  num_100  num_unq  total_secs  \n",
       "0  20170305.0     7.0     0.0     3.0      0.0     71.0     68.0   17599.893  \n",
       "1  20170301.0     2.0     1.0     0.0      1.0     21.0     18.0    8830.433  \n",
       "2  20170319.0     0.0     0.0     0.0      0.0     34.0     17.0    7883.313  \n",
       "3  20170316.0    15.0     0.0     0.0      1.0     38.0     17.0    9029.227  \n",
       "4  20170310.0     0.0     0.0     0.0      0.0      8.0      8.0    1870.110  \n",
       "\n",
       "[5 rows x 23 columns]"
      ]
     },
     "execution_count": 12,
     "metadata": {},
     "output_type": "execute_result"
    }
   ],
   "source": [
    "train_dataset.head()"
   ]
  },
  {
   "cell_type": "code",
   "execution_count": 13,
   "metadata": {},
   "outputs": [
    {
     "data": {
      "text/plain": [
       "(16887877, 23)"
      ]
     },
     "execution_count": 13,
     "metadata": {},
     "output_type": "execute_result"
    }
   ],
   "source": [
    "train_dataset.shape"
   ]
  },
  {
   "cell_type": "code",
   "execution_count": 14,
   "metadata": {},
   "outputs": [
    {
     "name": "stdout",
     "output_type": "stream",
     "text": [
      "city\n",
      "0.0     0.083906\n",
      "1.0     0.069631\n",
      "3.0     0.131210\n",
      "4.0     0.133819\n",
      "5.0     0.132687\n",
      "6.0     0.127799\n",
      "7.0     0.106309\n",
      "8.0     0.142899\n",
      "9.0     0.125337\n",
      "10.0    0.132318\n",
      "11.0    0.107256\n",
      "12.0    0.139945\n",
      "13.0    0.127451\n",
      "14.0    0.126532\n",
      "15.0    0.122181\n",
      "16.0    0.117568\n",
      "17.0    0.089775\n",
      "18.0    0.112245\n",
      "19.0    0.140959\n",
      "20.0    0.079720\n",
      "21.0    0.143717\n",
      "22.0    0.119596\n",
      "Name: is_churn, dtype: float64\n"
     ]
    }
   ],
   "source": [
    "mean_encode = train_dataset.groupby('city')['is_churn'].mean()\n",
    "print(mean_encode)\n",
    "train_dataset.loc[:, 'city_mean_enc'] = train_dataset['city'].map(mean_encode)"
   ]
  },
  {
   "cell_type": "code",
   "execution_count": 18,
   "metadata": {},
   "outputs": [],
   "source": [
    "#del train_dataset[\"city\"]"
   ]
  },
  {
   "cell_type": "code",
   "execution_count": 19,
   "metadata": {},
   "outputs": [
    {
     "name": "stdout",
     "output_type": "stream",
     "text": [
      "gender\n",
      "0.0    0.074407\n",
      "1.0    0.127283\n",
      "2.0    0.127856\n",
      "Name: is_churn, dtype: float64\n"
     ]
    }
   ],
   "source": [
    "mean_encode = train_dataset.groupby('gender')['is_churn'].mean()\n",
    "print(mean_encode)\n",
    "train_dataset.loc[:, 'gender_mean_enc'] = train_dataset['gender'].map(mean_encode)\n",
    "del train_dataset[\"gender\"]"
   ]
  },
  {
   "cell_type": "code",
   "execution_count": 20,
   "metadata": {},
   "outputs": [
    {
     "name": "stdout",
     "output_type": "stream",
     "text": [
      "payment_method_id\n",
      "0.0     0.639020\n",
      "3.0     1.000000\n",
      "6.0     1.000000\n",
      "8.0     0.865285\n",
      "10.0    0.124386\n",
      "11.0    0.022314\n",
      "12.0    0.951889\n",
      "13.0    0.995950\n",
      "14.0    0.053262\n",
      "15.0    0.906367\n",
      "16.0    0.167891\n",
      "17.0    0.896575\n",
      "18.0    0.013494\n",
      "19.0    0.025338\n",
      "20.0    0.992867\n",
      "21.0    0.058543\n",
      "22.0    0.994973\n",
      "23.0    0.058279\n",
      "26.0    0.614559\n",
      "27.0    0.033850\n",
      "28.0    0.236563\n",
      "29.0    0.093128\n",
      "30.0    0.076637\n",
      "31.0    0.022201\n",
      "32.0    0.962634\n",
      "33.0    0.035992\n",
      "34.0    0.032045\n",
      "35.0    0.874412\n",
      "36.0    0.094281\n",
      "37.0    0.027622\n",
      "38.0    0.276105\n",
      "39.0    0.055032\n",
      "40.0    0.065111\n",
      "41.0    0.054628\n",
      "Name: is_churn, dtype: float64\n"
     ]
    }
   ],
   "source": [
    "mean_encode = train_dataset.groupby('payment_method_id')['is_churn'].mean()\n",
    "print(mean_encode)\n",
    "train_dataset.loc[:, 'payment_method_id_mean_enc'] = train_dataset['payment_method_id'].map(mean_encode)\n",
    "del train_dataset[\"payment_method_id\"]"
   ]
  },
  {
   "cell_type": "code",
   "execution_count": 22,
   "metadata": {},
   "outputs": [
    {
     "name": "stdout",
     "output_type": "stream",
     "text": [
      "registered_via\n",
      "0.0     0.083906\n",
      "3.0     0.148928\n",
      "4.0     0.200675\n",
      "7.0     0.060007\n",
      "9.0     0.123385\n",
      "13.0    0.054955\n",
      "Name: is_churn, dtype: float64\n"
     ]
    }
   ],
   "source": [
    "mean_encode = train_dataset.groupby('registered_via')['is_churn'].mean()\n",
    "print(mean_encode)\n",
    "train_dataset.loc[:, 'registered_via_mean_enc'] = train_dataset['registered_via'].map(mean_encode)\n",
    "del train_dataset[\"registered_via\"]"
   ]
  },
  {
   "cell_type": "code",
   "execution_count": 23,
   "metadata": {},
   "outputs": [
    {
     "name": "stdout",
     "output_type": "stream",
     "text": [
      "is_auto_renew\n",
      "0.0    0.345851\n",
      "1.0    0.055092\n",
      "2.0    0.639020\n",
      "Name: is_churn, dtype: float64\n"
     ]
    }
   ],
   "source": [
    "mean_encode = train_dataset.groupby('is_auto_renew')['is_churn'].mean()\n",
    "print(mean_encode)\n",
    "train_dataset.loc[:, 'is_auto_renew_mean_enc'] = train_dataset['is_auto_renew'].map(mean_encode)\n",
    "del train_dataset[\"is_auto_renew\"]"
   ]
  },
  {
   "cell_type": "code",
   "execution_count": 24,
   "metadata": {},
   "outputs": [],
   "source": [
    "def normalize(df):\n",
    "    result1 = df.copy()\n",
    "    for feature_name in df.columns:\n",
    "        if (str(feature_name) != str('msno') and str(feature_name)!=str('is_churn')):\n",
    "            max_value = df[feature_name].max()\n",
    "            min_value = df[feature_name].min()\n",
    "            result1[feature_name] = (df[feature_name] - min_value) / (max_value - min_value)\n",
    "    return result1\n",
    "\n",
    "\n",
    "train_data = normalize(train_dataset)"
   ]
  },
  {
   "cell_type": "code",
   "execution_count": 25,
   "metadata": {},
   "outputs": [],
   "source": [
    "Y_train = train_data['is_churn'].values\n",
    "train_data.drop(['is_churn','msno'], axis=1, inplace=True)"
   ]
  },
  {
   "cell_type": "code",
   "execution_count": 26,
   "metadata": {},
   "outputs": [],
   "source": [
    "X_train = train_data"
   ]
  },
  {
   "cell_type": "code",
   "execution_count": 27,
   "metadata": {},
   "outputs": [],
   "source": [
    "# train test split\n",
    "from sklearn.model_selection import train_test_split\n",
    "X_train, X_test, Y_train, Y_test = train_test_split(X_train, Y_train, test_size=0.8, stratify=Y_train)\n",
    "X_train, X_cv, Y_train, Y_cv = train_test_split(X_train, Y_train, test_size=0.2, stratify=Y_train)"
   ]
  },
  {
   "cell_type": "code",
   "execution_count": 28,
   "metadata": {},
   "outputs": [
    {
     "name": "stdout",
     "output_type": "stream",
     "text": [
      "(2702060, 21) (2702060,)\n",
      "(13510302, 21) (13510302,)\n",
      "(675515, 21) (675515,)\n"
     ]
    }
   ],
   "source": [
    "print(X_train.shape, Y_train.shape)\n",
    "print(X_test.shape, Y_test.shape)\n",
    "print(X_cv.shape, Y_cv.shape)"
   ]
  },
  {
   "cell_type": "code",
   "execution_count": 29,
   "metadata": {},
   "outputs": [],
   "source": [
    "train_features = X_train.columns"
   ]
  },
  {
   "cell_type": "code",
   "execution_count": 30,
   "metadata": {},
   "outputs": [],
   "source": [
    "import os\n",
    "os.environ['KMP_DUPLICATE_LIB_OK']='True'\n",
    "\n",
    "\n",
    "from sklearn.model_selection import RandomizedSearchCV\n",
    "import warnings\n",
    "warnings.filterwarnings(\"ignore\")\n",
    "from sklearn.metrics import confusion_matrix\n",
    "from sklearn.linear_model import SGDClassifier\n",
    "\n",
    "\n",
    "from datetime import datetime\n",
    "from sklearn.calibration import CalibratedClassifierCV\n",
    "from matplotlib.pyplot import figure"
   ]
  },
  {
   "cell_type": "code",
   "execution_count": 31,
   "metadata": {},
   "outputs": [],
   "source": [
    "from sklearn.metrics import confusion_matrix\n",
    "from sklearn.metrics import log_loss\n",
    "from sklearn.metrics import f1_score\n",
    "import seaborn as sns\n",
    "import matplotlib.pyplot as plt\n",
    "def result(y_pred,y_pred_proba,y_true,confusion=0,silent=0):\n",
    "    \"\"\"\n",
    "    Function require 3 inputs\n",
    "    predicted value\n",
    "    predicted probabilities\n",
    "    true labels\n",
    "    final 1 or 0 \n",
    "    if 1 confusion matrix will be printed\n",
    "    \"\"\"\n",
    "    loss=log_loss(y_true,y_pred_proba)\n",
    "    if silent==0:\n",
    "        print(\"log loss is \",loss)\n",
    "        print('F1 score is',f1_score(y_true,y_pred))\n",
    "    if confusion==1:\n",
    "        cf_matrix = confusion_matrix(y_true, y_pred)\n",
    "        sns.heatmap(cf_matrix, annot=True,fmt='d')\n",
    "        plt.show()\n",
    "    return loss\n",
    "\n",
    "def lowest(hyperparameter,loss_all):\n",
    "    \"\"\"\n",
    "    this function return the\n",
    "    best hyperparameter and lowest loss associated with it\n",
    "    \"\"\"\n",
    "    lowest_loss_index=np.argsort(loss_all)[0]\n",
    "    lowest_loss=loss_all[lowest_loss_index]\n",
    "    hyperparameter=hyperparameter[lowest_loss_index]\n",
    "    print( 'The best hyperparameter is ',hyperparameter,'and the lowest loss associaed with it ',lowest_loss)\n",
    "    return hyperparameter\n",
    "def plot_result(hyperparameter,loss_all):\n",
    "    figure(num=None, figsize=(10,5), dpi=80, facecolor='w', edgecolor='k')\n",
    "    sns.scatterplot(x=hyperparameter,y=loss_all)\n",
    "    plt.plot()"
   ]
  },
  {
   "cell_type": "code",
   "execution_count": 32,
   "metadata": {},
   "outputs": [],
   "source": [
    "def misclassified_points(test_y, predict_y):\n",
    "    C = confusion_matrix(test_y, predict_y)\n",
    "    print(\"Number of misclassified points \",(len(test_y)-np.trace(C))/len(test_y)*100)"
   ]
  },
  {
   "cell_type": "markdown",
   "metadata": {},
   "source": [
    "# Random Model"
   ]
  },
  {
   "cell_type": "code",
   "execution_count": 33,
   "metadata": {},
   "outputs": [
    {
     "name": "stdout",
     "output_type": "stream",
     "text": [
      "Log loss on Cross Validation Data using Random Model 0.8867463832725058\n",
      "Log loss on Test Data using Random Model 0.886241617568117\n",
      "Number of misclassified points  94.8542823098995\n"
     ]
    }
   ],
   "source": [
    "test_data_len = X_test.shape[0]\n",
    "cv_data_len = X_cv.shape[0]\n",
    "\n",
    "# we create a output array that has exactly same size as the CV data\n",
    "cv_predicted_y = np.zeros((cv_data_len,2))\n",
    "for i in range(cv_data_len):\n",
    "    rand_probs = np.random.rand(1,2)\n",
    "    cv_predicted_y[i] = ((rand_probs/sum(sum(rand_probs)))[0])\n",
    "print(\"Log loss on Cross Validation Data using Random Model\",log_loss(Y_cv,cv_predicted_y, eps=1e-15))\n",
    "\n",
    "\n",
    "# Test-Set error.\n",
    "#we create a output array that has exactly same as the test data\n",
    "test_predicted_y = np.zeros((test_data_len,2))\n",
    "for i in range(test_data_len):\n",
    "    rand_probs = np.random.rand(1,2)\n",
    "    test_predicted_y[i] = ((rand_probs/sum(sum(rand_probs)))[0])\n",
    "print(\"Log loss on Test Data using Random Model\",log_loss(Y_test,test_predicted_y, eps=1e-15))\n",
    "\n",
    "predicted_y =np.argmax(test_predicted_y, axis=1)\n",
    "misclassified_points(Y_test, predicted_y+1)"
   ]
  },
  {
   "cell_type": "markdown",
   "metadata": {},
   "source": [
    "# Logistic Regression with L2 penalty"
   ]
  },
  {
   "cell_type": "code",
   "execution_count": 35,
   "metadata": {},
   "outputs": [
    {
     "name": "stdout",
     "output_type": "stream",
     "text": [
      "Model is training\n",
      "Done\n",
      "log loss is  0.6121487960846135\n",
      "F1 score is 0.4508206991605062\n",
      "Model is training\n",
      "Done\n",
      "log loss is  0.524313667973394\n",
      "F1 score is 0.4578912973957537\n",
      "Model is training\n",
      "Done\n",
      "log loss is  0.49890000204491586\n",
      "F1 score is 0.45599969360007153\n",
      "Model is training\n",
      "Done\n",
      "log loss is  0.49765779206164146\n",
      "F1 score is 0.4503966261672859\n",
      "Model is training\n",
      "Done\n",
      "log loss is  0.497999715322589\n",
      "F1 score is 0.4506765191732973\n",
      "Model is training\n",
      "Done\n",
      "log loss is  0.4980517470780435\n",
      "F1 score is 0.450650923402967\n",
      "Model is training\n",
      "Done\n",
      "log loss is  0.49803761338274793\n",
      "F1 score is 0.4507223519020882\n",
      "Model is training\n",
      "Done\n",
      "log loss is  0.4980552465855979\n",
      "F1 score is 0.4507020930320578\n",
      "Model is training\n",
      "Done\n",
      "log loss is  0.49803155798343623\n",
      "F1 score is 0.4506736640258364\n",
      "Model is training\n",
      "Done\n",
      "log loss is  0.49805592550938194\n",
      "F1 score is 0.4507020930320578\n",
      "The best hyperparameter is  0.01 and the lowest loss associaed with it  0.49765779206164146\n",
      "********************************************\n",
      "Training model with best hyperparameter\n",
      "Model is training\n",
      "Done\n",
      "log loss is  0.4962195441744717\n",
      "F1 score is 0.44771711286352905\n"
     ]
    },
    {
     "data": {
      "image/png": "[encoded data removed]",
      "text/plain": [
       "<Figure size 432x288 with 2 Axes>"
      ]
     },
     "metadata": {},
     "output_type": "display_data"
    },
    {
     "name": "stdout",
     "output_type": "stream",
     "text": [
      "*******************************************\n",
      "feature importance of top 50 features\n"
     ]
    },
    {
     "data": {
      "image/png": "[encoded data removed]",
      "text/plain": [
       "<Figure size 1600x400 with 1 Axes>"
      ]
     },
     "metadata": {},
     "output_type": "display_data"
    }
   ],
   "source": [
    "from sklearn.linear_model import LogisticRegression\n",
    "feature_importance_lr=[]\n",
    "feature_importance_values_lr=[]\n",
    "reg=[]\n",
    "loss_all=[]\n",
    "\n",
    "\n",
    "sample_points_train=int(0.4*X_train.shape[0])\n",
    "sample_points_cv=int(0.4*X_cv.shape[0])\n",
    "\n",
    "#hyperparameter tuning\n",
    "\n",
    "for i in [10**i for i in range(-5,5)]:\n",
    "    model=LogisticRegression(C=i,n_jobs=-1,random_state=110,class_weight='balanced')\n",
    "    print(\"Model is training\")\n",
    "    model.fit(X_train[:sample_points_train],Y_train[:sample_points_train])\n",
    "    print(\"Done\")\n",
    "    y_pred_proba=model.predict_proba(X_cv[:sample_points_cv])\n",
    "    y_pred=model.predict(X_cv[:sample_points_cv])\n",
    "    loss=result(y_pred,y_pred_proba,Y_cv[:sample_points_cv])\n",
    "    reg.append(i)\n",
    "    loss_all.append(loss)\n",
    "hyperparameter=lowest(reg,loss_all)\n",
    "\n",
    "\n",
    "# training model with best hyperparameter\n",
    "\n",
    "print(\"********************************************\")\n",
    "print(\"Training model with best hyperparameter\")\n",
    "model=LogisticRegression(C=hyperparameter,n_jobs=-1,random_state=110,class_weight='balanced')\n",
    "print(\"Model is training\")\n",
    "model.fit(X_train,Y_train)\n",
    "print(\"Done\")\n",
    "y_pred_proba=model.predict_proba(X_cv)\n",
    "y_pred=model.predict(X_cv)\n",
    "loss=result(y_pred,y_pred_proba,Y_cv,confusion=1)\n",
    "\n",
    "\n",
    "\n",
    "# visualizing\n",
    "\n",
    "print(\"*******************************************\")\n",
    "figure(num=None, figsize=(20,5), dpi=80, facecolor='w', edgecolor='k')\n",
    "feature_name=[train_features[i] for i in np.argsort(np.abs(model.coef_)[0])[::-1]]\n",
    "feature_importance=[np.abs(model.coef_)[0][i] for i in np.argsort(np.abs(model.coef_)[0])[::-1]]\n",
    "print(\"feature importance of top 50 features\")\n",
    "plt.bar(feature_name[:50],feature_importance[:50])\n",
    "plt.xticks(rotation=90)\n",
    "plt.plot()\n",
    "feature_importance_lr.append(feature_name)\n",
    "feature_importance_values_lr.append(feature_importance)\n"
   ]
  },
  {
   "cell_type": "markdown",
   "metadata": {},
   "source": [
    "# Logistic Regression with L1 penalty"
   ]
  },
  {
   "cell_type": "code",
   "execution_count": 36,
   "metadata": {},
   "outputs": [
    {
     "name": "stdout",
     "output_type": "stream",
     "text": [
      "Model is training\n",
      "Done\n",
      "log loss is  0.5281764936950406\n",
      "F1 score is 0.4292039025989997\n",
      "Model is training\n",
      "Done\n",
      "log loss is  0.49823215031400364\n",
      "F1 score is 0.4641655143624931\n",
      "Model is training\n",
      "Done\n",
      "log loss is  0.49781970459132263\n",
      "F1 score is 0.4513288847963469\n",
      "Model is training\n",
      "Done\n",
      "log loss is  0.49802316668398156\n",
      "F1 score is 0.450615025547215\n",
      "Model is training\n",
      "Done\n",
      "log loss is  0.4980533429670852\n",
      "F1 score is 0.4506256938137047\n",
      "Model is training\n",
      "Done\n",
      "log loss is  0.4980567932533118\n",
      "F1 score is 0.45066797865495967\n",
      "Model is training\n",
      "Done\n",
      "log loss is  0.4980571105051503\n",
      "F1 score is 0.45066797865495967\n",
      "Model is training\n",
      "Done\n",
      "log loss is  0.49805714225987485\n",
      "F1 score is 0.45066797865495967\n",
      "The best hyperparameter is  0.01 and the lowest loss associaed with it  0.49781970459132263\n",
      "********************************************\n",
      "Training model with best hyperparameter\n",
      "Model is training\n",
      "Done\n",
      "log loss is  0.24633982822719022\n",
      "F1 score is 0.47751975536649605\n"
     ]
    },
    {
     "data": {
      "image/png": "[encoded data removed]",
      "text/plain": [
       "<Figure size 432x288 with 2 Axes>"
      ]
     },
     "metadata": {},
     "output_type": "display_data"
    },
    {
     "name": "stdout",
     "output_type": "stream",
     "text": [
      "*******************************************\n",
      "feature importance of top 50 features\n"
     ]
    },
    {
     "data": {
      "image/png": "[encoded data removed]",
      "text/plain": [
       "<Figure size 1600x400 with 1 Axes>"
      ]
     },
     "metadata": {},
     "output_type": "display_data"
    }
   ],
   "source": [
    "from sklearn.linear_model import LogisticRegression\n",
    "feature_importance_lr=[]\n",
    "feature_importance_values_lr=[]\n",
    "reg=[]\n",
    "loss_all=[]\n",
    "\n",
    "\n",
    "sample_points_train=int(0.4*X_train.shape[0])\n",
    "sample_points_cv=int(0.4*X_cv.shape[0])\n",
    "\n",
    "#hyperparameter tuning\n",
    "\n",
    "for i in [10**i for i in range(-4,4)]:\n",
    "    model=LogisticRegression(C=i,n_jobs=-1,random_state=110,penalty='l1',solver='liblinear',class_weight='balanced')\n",
    "    print(\"Model is training\")\n",
    "    model.fit(X_train[:sample_points_train],Y_train[:sample_points_train])\n",
    "    print(\"Done\")\n",
    "    y_pred_proba=model.predict_proba(X_cv[:sample_points_cv])\n",
    "    y_pred=model.predict(X_cv[:sample_points_cv])\n",
    "    loss=result(y_pred,y_pred_proba,Y_cv[:sample_points_cv])\n",
    "    reg.append(i)\n",
    "    loss_all.append(loss)\n",
    "hyperparameter=lowest(reg,loss_all)\n",
    "\n",
    "\n",
    "# training model with best hyperparameter\n",
    "\n",
    "print(\"********************************************\")\n",
    "print(\"Training model with best hyperparameter\")\n",
    "model=LogisticRegression(C=hyperparameter,n_jobs=-1,random_state=110,penalty='l1',solver='liblinear')\n",
    "print(\"Model is training\")\n",
    "model.fit(X_train,Y_train)\n",
    "print(\"Done\")\n",
    "y_pred_proba=model.predict_proba(X_cv)\n",
    "y_pred=model.predict(X_cv)\n",
    "loss=result(y_pred,y_pred_proba,Y_cv,confusion=1)\n",
    "print(\"*******************************************\")\n",
    "\n",
    "# visualizing\n",
    "\n",
    "figure(num=None, figsize=(20,5), dpi=80, facecolor='w', edgecolor='k')\n",
    "feature_name=[train_features[i] for i in np.argsort(np.abs(model.coef_)[0])[::-1]]\n",
    "feature_importance=[np.abs(model.coef_)[0][i] for i in np.argsort(np.abs(model.coef_)[0])[::-1]]\n",
    "print(\"feature importance of top 50 features\")\n",
    "plt.bar(feature_name[:50],feature_importance[:50])\n",
    "plt.xticks(rotation=90)\n",
    "plt.plot()\n",
    "feature_importance_lr.append(feature_name)\n",
    "feature_importance_values_lr.append(feature_importance)"
   ]
  },
  {
   "cell_type": "markdown",
   "metadata": {},
   "source": [
    "# SGD with l2 penalty (class balance)"
   ]
  },
  {
   "cell_type": "code",
   "execution_count": 43,
   "metadata": {},
   "outputs": [
    {
     "name": "stdout",
     "output_type": "stream",
     "text": [
      "Model is training\n",
      "Done\n",
      "log loss is  0.24072749928171405\n",
      "F1 score is 0.4752379743622287\n",
      "Model is training\n",
      "Done\n",
      "log loss is  0.2387537851956937\n",
      "F1 score is 0.4701065534165756\n",
      "Model is training\n",
      "Done\n",
      "log loss is  0.24123750876474617\n",
      "F1 score is 0.44944691409076815\n",
      "Model is training\n",
      "Done\n",
      "log loss is  0.2365261477130529\n",
      "F1 score is 0.48925214957008606\n",
      "Model is training\n",
      "Done\n",
      "log loss is  0.2363538735323198\n",
      "F1 score is 0.48936223405585133\n",
      "Model is training\n",
      "Done\n",
      "log loss is  0.2371102154287679\n",
      "F1 score is 0.48750657878248665\n",
      "Model is training\n",
      "Done\n",
      "log loss is  0.307111507331989\n",
      "F1 score is 0.10202162670427832\n",
      "Model is training\n",
      "Done\n",
      "log loss is  0.3286126793273893\n",
      "F1 score is 7.219955958268655e-05\n",
      "Model is training\n",
      "Done\n",
      "log loss is  0.3286126813094196\n",
      "F1 score is 7.219955958268655e-05\n",
      "Model is training\n",
      "Done\n",
      "log loss is  0.328612680381586\n",
      "F1 score is 7.219955958268655e-05\n",
      "The best hyperparameter is  0.1 and the lowest loss associaed with it  0.2363538735323198\n",
      "********************************************\n",
      "Training model with best hyperparameter\n",
      "Model is training\n",
      "Done\n",
      "log loss is  0.2504232512110802\n",
      "F1 score is 0.4591124356985384\n"
     ]
    },
    {
     "data": {
      "image/png": "[encoded data removed]",
      "text/plain": [
       "<Figure size 432x288 with 2 Axes>"
      ]
     },
     "metadata": {
      "needs_background": "light"
     },
     "output_type": "display_data"
    },
    {
     "name": "stdout",
     "output_type": "stream",
     "text": [
      "*******************************************\n",
      "feature importance of top 50 features\n"
     ]
    },
    {
     "data": {
      "image/png": "[encoded data removed]",
      "text/plain": [
       "<Figure size 1600x400 with 1 Axes>"
      ]
     },
     "metadata": {},
     "output_type": "display_data"
    }
   ],
   "source": [
    "feature_importance_sgd=[]\n",
    "feature_importance_values_sgd=[]\n",
    "reg=[]\n",
    "loss_all=[]\n",
    "\n",
    "#using a sample to find hyperparameter\n",
    "sample_points_train=int(0.4*X_train.shape[0])\n",
    "sample_points_cv=int(0.4*X_cv.shape[0])\n",
    "\n",
    "#hyperparameter tuning\n",
    "\n",
    "for i in [10**i for i in range(-5,5)]:\n",
    "    model=SGDClassifier(loss='hinge',alpha=i,n_jobs=-1,random_state=110,class_weight='balanced')\n",
    "    print(\"Model is training\")\n",
    "    model.fit(X_train[:sample_points_train],Y_train[:sample_points_train])\n",
    "    calibration=CalibratedClassifierCV(model,method='isotonic')\n",
    "    calibration.fit(X_train[int(0.4*X_train.shape[0]):int(0.5*X_train.shape[0])],Y_train[int(0.4*X_train.shape[0]):int(0.5*X_train.shape[0])])\n",
    "    print(\"Done\")\n",
    "    y_pred_proba=calibration.predict_proba(X_cv[:sample_points_cv])\n",
    "    y_pred=calibration.predict(X_cv[:sample_points_cv])\n",
    "    loss=result(y_pred,y_pred_proba,Y_cv[:sample_points_cv])\n",
    "    reg.append(i)\n",
    "    loss_all.append(loss)\n",
    "    \n",
    "    \n",
    "# training model with best hyperparameter\n",
    "\n",
    "hyperparameter=lowest(reg,loss_all)\n",
    "print(\"********************************************\")\n",
    "print(\"Training model with best hyperparameter\")\n",
    "model=SGDClassifier(loss='log',alpha=hyperparameter,n_jobs=-1,random_state=110)\n",
    "print(\"Model is training\")\n",
    "model.fit(X_train,Y_train)\n",
    "calibration=CalibratedClassifierCV(model,method='isotonic')\n",
    "calibration.fit(X_train[int(0.4*X_train.shape[0]):int(0.5*X_train.shape[0])],Y_train[int(0.4*X_train.shape[0]):int(0.5*X_train.shape[0])])\n",
    "print(\"Done\")\n",
    "y_pred_proba=calibration.predict_proba(X_cv)\n",
    "y_pred=calibration.predict(X_cv)\n",
    "loss=result(y_pred,y_pred_proba,Y_cv,confusion=1)\n",
    "\n",
    "\n",
    "\n",
    "# visualizing\n",
    "print(\"*******************************************\")\n",
    "figure(num=None, figsize=(20,5), dpi=80, facecolor='w', edgecolor='k')\n",
    "feature_name=[train_features[i] for i in np.argsort(np.abs(model.coef_)[0])[::-1]]\n",
    "feature_importance=[np.abs(model.coef_)[0][i] for i in np.argsort(np.abs(model.coef_)[0])[::-1]]\n",
    "print(\"feature importance of top 50 features\")\n",
    "plt.bar(feature_name[:50],feature_importance[:50])\n",
    "plt.xticks(rotation=90)\n",
    "plt.plot()\n",
    "feature_importance_sgd.append(feature_name)\n",
    "feature_importance_values_sgd.append(feature_importance)"
   ]
  },
  {
   "cell_type": "markdown",
   "metadata": {},
   "source": [
    "# SGD with l1 penalty (class balance)"
   ]
  },
  {
   "cell_type": "code",
   "execution_count": 48,
   "metadata": {},
   "outputs": [
    {
     "name": "stdout",
     "output_type": "stream",
     "text": [
      "Model is training\n",
      "Done\n",
      "log loss is  0.23667181794729397\n",
      "F1 score is 0.4751997970315869\n",
      "Model is training\n",
      "Done\n",
      "log loss is  0.23861906038680544\n",
      "F1 score is 0.4746321664129883\n",
      "Model is training\n",
      "Done\n",
      "log loss is  0.24102502796848443\n",
      "F1 score is 0.4498282408244441\n",
      "Model is training\n",
      "Done\n",
      "log loss is  0.24813500062856958\n",
      "F1 score is 0.48429589703548853\n",
      "Model is training\n",
      "Done\n",
      "log loss is  0.3305298996444466\n",
      "F1 score is 0.0\n",
      "Model is training\n",
      "Done\n",
      "log loss is  0.3305298996444466\n",
      "F1 score is 0.0\n",
      "Model is training\n",
      "Done\n",
      "log loss is  0.3305298996444466\n",
      "F1 score is 0.0\n",
      "Model is training\n",
      "Done\n",
      "log loss is  0.3305298996444466\n",
      "F1 score is 0.0\n",
      "Model is training\n",
      "Done\n",
      "log loss is  0.3305298996444466\n",
      "F1 score is 0.0\n",
      "Model is training\n",
      "Done\n",
      "log loss is  0.3305298996444466\n",
      "F1 score is 0.0\n",
      "The best hyperparameter is  1e-05 and the lowest loss associaed with it  0.23667181794729397\n",
      "********************************************\n",
      "Training model with best hyperparameter\n",
      "Model is training\n",
      "Done\n",
      "log loss is  0.2409820240862164\n",
      "F1 score is 0.47872800184930203\n"
     ]
    },
    {
     "data": {
      "image/png": "[encoded data removed]",
      "text/plain": [
       "<Figure size 432x288 with 2 Axes>"
      ]
     },
     "metadata": {},
     "output_type": "display_data"
    },
    {
     "name": "stdout",
     "output_type": "stream",
     "text": [
      "*******************************************\n",
      "feature importance of top 50 features\n"
     ]
    },
    {
     "data": {
      "image/png": "[encoded data removed]",
      "text/plain": [
       "<Figure size 1600x400 with 1 Axes>"
      ]
     },
     "metadata": {},
     "output_type": "display_data"
    }
   ],
   "source": [
    "feature_importance_sgd=[]\n",
    "feature_importance_values_sgd=[]\n",
    "reg=[]\n",
    "loss_all=[]\n",
    "\n",
    "\n",
    "#using a sample to find hyperparameter\n",
    "\n",
    "sample_points_train=int(0.4*X_train.shape[0])\n",
    "sample_points_cv=int(0.4*X_cv.shape[0])\n",
    "\n",
    "\n",
    "\n",
    "#hyperparameter tuning\n",
    "\n",
    "for i in [10**i for i in range(-5,5)]:\n",
    "    model=SGDClassifier(loss='hinge',alpha=i,n_jobs=-1,random_state=110, penalty='l1')\n",
    "    print(\"Model is training\")\n",
    "    model.fit(X_train[:sample_points_train],Y_train[:sample_points_train])\n",
    "    calibration=CalibratedClassifierCV(model,method='isotonic')\n",
    "    calibration.fit(X_train[int(0.4*X_train.shape[0]):int(0.5*X_train.shape[0])],Y_train[int(0.4*X_train.shape[0]):int(0.5*X_train.shape[0])])\n",
    "    print(\"Done\")\n",
    "    y_pred_proba=calibration.predict_proba(X_cv[:sample_points_cv])\n",
    "    y_pred=calibration.predict(X_cv[:sample_points_cv])\n",
    "    loss=result(y_pred,y_pred_proba,Y_cv[:sample_points_cv])\n",
    "    reg.append(i)\n",
    "    loss_all.append(loss)\n",
    "hyperparameter=lowest(reg,loss_all)\n",
    "\n",
    "# training model with best hyperparameter\n",
    "print(\"********************************************\")\n",
    "print(\"Training model with best hyperparameter\")\n",
    "model=SGDClassifier(loss='log',alpha=hyperparameter,n_jobs=-1,random_state=110, penalty='l1')\n",
    "print(\"Model is training\")\n",
    "model.fit(X_train,Y_train)\n",
    "calibration=CalibratedClassifierCV(model,method='isotonic')\n",
    "calibration.fit(X_train[int(0.4*X_train.shape[0]):int(0.5*X_train.shape[0])],Y_train[int(0.4*X_train.shape[0]):int(0.5*X_train.shape[0])])\n",
    "print(\"Done\")\n",
    "y_pred_proba=calibration.predict_proba(X_cv)\n",
    "y_pred=calibration.predict(X_cv)\n",
    "loss=result(y_pred,y_pred_proba,Y_cv,confusion=1)\n",
    "print(\"*******************************************\")\n",
    "\n",
    "\n",
    "\n",
    "# visualizing\n",
    "\n",
    "figure(num=None, figsize=(20,5), dpi=80, facecolor='w', edgecolor='k')\n",
    "feature_name=[train_features[i] for i in np.argsort(np.abs(model.coef_)[0])[::-1]]\n",
    "feature_importance=[np.abs(model.coef_)[0][i] for i in np.argsort(np.abs(model.coef_)[0])[::-1]]\n",
    "print(\"feature importance of top 50 features\")\n",
    "plt.bar(feature_name[:50],feature_importance[:50])\n",
    "plt.xticks(rotation=90)\n",
    "plt.plot()\n",
    "feature_importance_sgd.append(feature_name)\n",
    "feature_importance_values_sgd.append(feature_importance)"
   ]
  },
  {
   "cell_type": "markdown",
   "metadata": {},
   "source": [
    "# LGBMClassifier"
   ]
  },
  {
   "cell_type": "code",
   "execution_count": 52,
   "metadata": {},
   "outputs": [
    {
     "name": "stdout",
     "output_type": "stream",
     "text": [
      "Model is training\n",
      "Done\n",
      "log loss is  0.09258046381134348\n",
      "F1 score is 0.8263155889189497\n",
      "Model is training\n",
      "Done\n",
      "log loss is  0.08474729962736782\n",
      "F1 score is 0.836771062409949\n",
      "Model is training\n",
      "Done\n",
      "log loss is  0.08257698915058784\n",
      "F1 score is 0.8395085066162572\n",
      "Model is training\n",
      "Done\n",
      "log loss is  0.08080670767727278\n",
      "F1 score is 0.8432385549438117\n",
      "Model is training\n",
      "Done\n",
      "log loss is  0.08798948331868743\n",
      "F1 score is 0.8315867551684133\n",
      "Model is training\n",
      "Done\n",
      "log loss is  0.08114419206498515\n",
      "F1 score is 0.8431543116490168\n",
      "Model is training\n",
      "Done\n",
      "log loss is  0.07892335412684119\n",
      "F1 score is 0.8455572956959827\n",
      "Model is training\n",
      "Done\n",
      "log loss is  0.07766230654031964\n",
      "F1 score is 0.8485349672035635\n",
      "Model is training\n",
      "Done\n",
      "log loss is  0.08063489620430954\n",
      "F1 score is 0.843326080787059\n",
      "Model is training\n",
      "Done\n",
      "log loss is  0.07539235416174533\n",
      "F1 score is 0.8545648952334501\n",
      "Model is training\n",
      "Done\n",
      "log loss is  0.07379369194192335\n",
      "F1 score is 0.857191004924448\n",
      "Model is training\n",
      "Done\n",
      "log loss is  0.07242209026541695\n",
      "F1 score is 0.861236521025335\n",
      "Model is training\n",
      "Done\n",
      "log loss is  0.0759268662654584\n",
      "F1 score is 0.853227931488801\n",
      "Model is training\n",
      "Done\n",
      "log loss is  0.07148403917884172\n",
      "F1 score is 0.8637915912441451\n",
      "Model is training\n",
      "Done\n",
      "log loss is  0.06976464625404882\n",
      "F1 score is 0.8669798307422734\n",
      "Model is training\n",
      "Done\n",
      "log loss is  0.0685678308129365\n",
      "F1 score is 0.8702553998289899\n",
      "The best hyperparameter is  (1000, 100) and the lowest loss associaed with it  0.0685678308129365\n",
      "********************************************\n",
      "Training model with best hyperparameter\n",
      "Model is training\n",
      "Done\n",
      "log loss is  0.09495126453508201\n",
      "F1 score is 0.8704858916688353\n"
     ]
    },
    {
     "data": {
      "image/png": "[encoded data removed]",
      "text/plain": [
       "<Figure size 432x288 with 2 Axes>"
      ]
     },
     "metadata": {},
     "output_type": "display_data"
    },
    {
     "name": "stdout",
     "output_type": "stream",
     "text": [
      "*******************************************\n"
     ]
    }
   ],
   "source": [
    "import lightgbm \n",
    "from lightgbm import LGBMClassifier \n",
    "hyp=[]\n",
    "feature_importance_lgb=[]\n",
    "feature_importance_values_lgb=[]\n",
    "loss_all=[]\n",
    "\n",
    "\n",
    "#hyperparameter tuning\n",
    "\n",
    "for i in [100,200,500,1000]:\n",
    "    for j in [30,60,80,100]:\n",
    "        model=LGBMClassifier(boosting_type='gbdt', max_depth=- 1, num_leaves=j,learning_rate=0.1, n_estimators=i, objective=None, min_split_gain=0.0, min_child_weight=0.001, min_child_samples=20,subsample=1.0, subsample_freq=0, colsample_bytree=1.0,reg_alpha=0.0, reg_lambda=0.0, random_state=110, n_jobs=- 1)\n",
    "        print(\"Model is training\")\n",
    "        model.fit(X_train[:sample_points_train],Y_train[:sample_points_train])\n",
    "        print(\"Done\")\n",
    "        y_pred_proba=model.predict_proba(X_cv[:sample_points_cv])\n",
    "        y_pred=model.predict(X_cv[:sample_points_cv])\n",
    "        loss=result(y_pred,y_pred_proba,Y_cv[:sample_points_cv])\n",
    "        hyp.append((i,j))\n",
    "        loss_all.append(loss)\n",
    "hyperparameter=lowest(hyp,loss_all)\n",
    "print(\"********************************************\")\n",
    "print(\"Training model with best hyperparameter\")\n",
    "\n",
    "# training model with best hyperparameter\n",
    "\n",
    "model=LGBMClassifier(boosting_type='gbdt', max_depth=- 1,\n",
    "               learning_rate=0.1, n_estimators=hyperparameter[0],  num_leaves=hyperparameter[1],\n",
    "               subsample_for_bin=200000, objective=None, \n",
    "               class_weight=None, min_split_gain=0.0, \n",
    "               min_child_weight=0.001, min_child_samples=20,\n",
    "               subsample=1.0, subsample_freq=0, colsample_bytree=1.0,\n",
    "               reg_alpha=0.0, reg_lambda=0.0, random_state=110, n_jobs=- 1)\n",
    "print(\"Model is training\")\n",
    "model.fit(X_train,Y_train)\n",
    "print(\"Done\")\n",
    "y_pred_proba=model.predict_proba(X_cv)\n",
    "y_pred=model.predict(X_cv)\n",
    "loss=result(y_pred,y_pred_proba,Y_cv,confusion=1)\n",
    "print(\"*******************************************\")\n",
    "\n"
   ]
  },
  {
   "cell_type": "code",
   "execution_count": 54,
   "metadata": {},
   "outputs": [],
   "source": [
    "import pickle\n"
   ]
  },
  {
   "cell_type": "code",
   "execution_count": 55,
   "metadata": {},
   "outputs": [],
   "source": [
    "pickle.dump(clf,open('pre_model.pkl','wb')) #saving our model in .pkl file\n"
   ]
  },
  {
   "cell_type": "code",
   "execution_count": 56,
   "metadata": {},
   "outputs": [],
   "source": [
    "pickle.dump(sig_clf,open('pre_model.pkl','wb'))"
   ]
  },
  {
   "cell_type": "code",
   "execution_count": 57,
   "metadata": {},
   "outputs": [],
   "source": [
    "with open('pre_model.pkl', 'rb')as f:\n",
    "    data = pickle.load(f)\n",
    "    \n"
   ]
  },
  {
   "cell_type": "code",
   "execution_count": 58,
   "metadata": {},
   "outputs": [
    {
     "data": {
      "text/plain": [
       "CalibratedClassifierCV(base_estimator=SGDClassifier(alpha=10, random_state=42))"
      ]
     },
     "execution_count": 58,
     "metadata": {},
     "output_type": "execute_result"
    }
   ],
   "source": [
    "data"
   ]
  },
  {
   "cell_type": "code",
   "execution_count": null,
   "metadata": {},
   "outputs": [],
   "source": []
  }
 ],
 "metadata": {
  "kernelspec": {
   "display_name": "Python 3 (ipykernel)",
   "language": "python",
   "name": "python3"
  },
  "language_info": {
   "codemirror_mode": {
    "name": "ipython",
    "version": 3
   },
   "file_extension": ".py",
   "mimetype": "text/x-python",
   "name": "python",
   "nbconvert_exporter": "python",
   "pygments_lexer": "ipython3",
   "version": "3.9.7"
  }
 },
 "nbformat": 4,
 "nbformat_minor": 2
}
